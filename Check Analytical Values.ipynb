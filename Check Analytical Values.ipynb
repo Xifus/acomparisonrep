{
 "cells": [
  {
   "cell_type": "code",
   "execution_count": 1,
   "metadata": {
    "collapsed": true
   },
   "outputs": [],
   "source": [
    "import test_ana as tana"
   ]
  },
  {
   "cell_type": "code",
   "execution_count": 2,
   "metadata": {
    "collapsed": true
   },
   "outputs": [],
   "source": [
    "k = [10, 30, 100]"
   ]
  },
  {
   "cell_type": "code",
   "execution_count": 3,
   "metadata": {
    "collapsed": false
   },
   "outputs": [
    {
     "name": "stdout",
     "output_type": "stream",
     "text": [
      "k =  10\n",
      "Type A1-1\n",
      "sum(S_i) =  0.826795633755\n",
      "S_1/S_Tot_1 =  0.715553282514\n",
      "S_k/S_Tot_k =  0.539828305038\n",
      "---------------------------\n",
      "Type A1-2\n",
      "sum(S_i) =  0.826795633755\n",
      "S_1/S_Tot_1 =  0.539828305038\n",
      "S_k/S_Tot_k =  0.715553282514\n",
      "---------------------------\n",
      "Type A2\n",
      "sum(S_i) =  0.50787767128\n",
      "S_1/S_Tot_1 =  0.307243709847\n",
      "S_k/S_Tot_k =  0.231791056199\n",
      "---------------------------\n",
      "Type B\n",
      "sum(S_i) =  0.973760772739\n",
      "S_1/S_Tot_1 =  0.948480276668\n",
      "S_k/S_Tot_k =  0.948480276668\n",
      "---------------------------\n",
      "Type C\n",
      "sum(S_i) =  0.198913218134\n",
      "S_1/S_Tot_1 =  0.0750846862793\n",
      "S_k/S_Tot_k =  0.0750846862793\n"
     ]
    }
   ],
   "source": [
    "a1, a2, a3, a4, a5 = tana.create_a(k[0])\n",
    "tana.sum_si(k[0], a1, a2, a3, a4, a5)"
   ]
  },
  {
   "cell_type": "code",
   "execution_count": 4,
   "metadata": {
    "collapsed": false
   },
   "outputs": [
    {
     "name": "stdout",
     "output_type": "stream",
     "text": [
      "k =  30\n",
      "Type A1-1\n",
      "sum(S_i) =  0.759015332578\n",
      "S_1/S_Tot_1 =  0.636200147833\n",
      "S_k/S_Tot_k =  0.479962646895\n",
      "---------------------------\n",
      "Type A1-2\n",
      "sum(S_i) =  0.759015332578\n",
      "S_1/S_Tot_1 =  0.479962646895\n",
      "S_k/S_Tot_k =  0.636200147833\n",
      "---------------------------\n",
      "Type A2\n",
      "sum(S_i) =  0.467419058286\n",
      "S_1/S_Tot_1 =  0.273171122825\n",
      "S_k/S_Tot_k =  0.206085986639\n",
      "---------------------------\n",
      "Type B\n",
      "sum(S_i) =  0.91712447499\n",
      "S_1/S_Tot_1 =  0.843296099647\n",
      "S_k/S_Tot_k =  0.843296099647\n",
      "---------------------------\n",
      "Type C\n",
      "sum(S_i) =  0.00178613987429\n",
      "S_1/S_Tot_1 =  0.00023810945356\n",
      "S_k/S_Tot_k =  0.00023810945356\n"
     ]
    }
   ],
   "source": [
    "a1, a2, a3, a4, a5 = tana.create_a(k[1])\n",
    "tana.sum_si(k[1], a1, a2, a3, a4, a5)"
   ]
  },
  {
   "cell_type": "code",
   "execution_count": 5,
   "metadata": {
    "collapsed": false
   },
   "outputs": [
    {
     "name": "stdout",
     "output_type": "stream",
     "text": [
      "k =  100\n",
      "Type A1-1\n",
      "sum(S_i) =  0.575441824002\n",
      "S_1/S_Tot_1 =  0.421623706113\n",
      "S_k/S_Tot_k =  0.318081708514\n",
      "---------------------------\n",
      "Type A1-2\n",
      "sum(S_i) =  0.575441824002\n",
      "S_1/S_Tot_1 =  0.318081708514\n",
      "S_k/S_Tot_k =  0.421623706113\n",
      "---------------------------\n",
      "Type A2\n",
      "sum(S_i) =  0.349825525894\n",
      "S_1/S_Tot_1 =  0.181036457789\n",
      "S_k/S_Tot_k =  0.13657767569\n",
      "---------------------------\n",
      "Type B\n",
      "sum(S_i) =  0.736925906819\n",
      "S_1/S_Tot_1 =  0.55887070774\n",
      "S_k/S_Tot_k =  0.55887070774\n",
      "---------------------------\n",
      "Type C\n",
      "sum(S_i) =  1.06906739513e-11\n",
      "S_1/S_Tot_1 =  4.27626958051e-13\n",
      "S_k/S_Tot_k =  4.27626958051e-13\n"
     ]
    }
   ],
   "source": [
    "a1, a2, a3, a4, a5 = tana.create_a(k[2])\n",
    "tana.sum_si(k[2], a1, a2, a3, a4, a5)"
   ]
  }
 ],
 "metadata": {
  "kernelspec": {
   "display_name": "Python 2",
   "language": "python",
   "name": "python2"
  },
  "language_info": {
   "codemirror_mode": {
    "name": "ipython",
    "version": 2
   },
   "file_extension": ".py",
   "mimetype": "text/x-python",
   "name": "python",
   "nbconvert_exporter": "python",
   "pygments_lexer": "ipython2",
   "version": "2.7.13"
  }
 },
 "nbformat": 4,
 "nbformat_minor": 2
}
